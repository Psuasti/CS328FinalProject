{
 "cells": [
  {
   "cell_type": "code",
   "execution_count": 4,
   "metadata": {},
   "outputs": [],
   "source": [
    "import os\n",
    "import pandas as pd\n",
    "import numpy as np\n",
    "import sys\n",
    "import librosa\n",
    "import re\n",
    "import glob\n",
    "import librosa.display\n",
    "import seaborn as sns\n",
    "from IPython.display import Audio\n",
    "\n",
    "import matplotlib.pyplot as plt\n",
    "\n",
    "import plotly.express as px\n",
    "from sklearn import tree, metrics\n",
    "from sklearn.model_selection import train_test_split, cross_val_score\n",
    "from sklearn.metrics import accuracy_score, confusion_matrix, ConfusionMatrixDisplay\n",
    "from scipy.signal import butter, filtfilt, find_peaks\n",
    "from sklearn.tree import DecisionTreeClassifier,export_graphviz\n",
    "from sklearn.model_selection import train_test_split\n",
    "from sklearn.ensemble import RandomForestClassifier\n",
    "from sklearn.metrics import accuracy_score, classification_report, confusion_matrix\n"
   ]
  },
  {
   "cell_type": "code",
   "execution_count": 5,
   "metadata": {},
   "outputs": [],
   "source": [
    "def extract_features(data, sample_rate):\n",
    " # Extract features\n",
    " zcr = librosa.feature.zero_crossing_rate(y=data)\n",
    " mfcc = librosa.feature.mfcc(y=data, sr=sample_rate)\n",
    " rms = librosa.feature.rms(y=data)\n",
    " mel = librosa.feature.melspectrogram(y=data, sr=sample_rate)\n",
    " # Average across columns (axis=1)\n",
    " zcr_avg = np.mean(zcr, axis=1)\n",
    " mfcc_avg = np.mean(mfcc, axis=1)\n",
    " rms_avg = np.mean(rms, axis=1)\n",
    " mel_avg = np.mean(mel, axis=1)\n",
    "\n",
    " # Concatenate into single row\n",
    " features = np.concatenate([zcr_avg, mfcc_avg, rms_avg, mel_avg])\n",
    " # Convert to dataframe and transpose it\n",
    " df = pd.DataFrame(features).T\n",
    " return df"
   ]
  },
  {
   "cell_type": "code",
   "execution_count": 6,
   "metadata": {},
   "outputs": [],
   "source": [
    "def train_random_forest(frames):\n",
    " print(frames)\n",
    " # Use pandas iloc fn to extract the first 150 columns as features.\n",
    " # Careful about how the indexing works (cols start from 0)\n",
    " X = frames.iloc[: , 0:150]\n",
    " # Use pandas iloc function to extract the 151st column as the prediction target.\n",
    " # Again, careful about how indexing works (col numbers start from 0)\n",
    " y = frames.iloc[: , 150]\n",
    " # Split data\n",
    " X_train, X_test, y_train, y_test = train_test_split(X, y, test_size=0.3, random_state=42)\n",
    " Emotion_rf = RandomForestClassifier()\n",
    " Emotion_rf_model = Emotion_rf.fit(X_train, y_train)\n",
    " Emotion_rf_pred = Emotion_rf_model.predict(X_test)\n",
    " print(classification_report(y_test, Emotion_rf_pred))\n",
    " # Evaluate on test set\n",
    " acc = Emotion_rf_model.score(X_test, y_test)\n",
    " Emotion_rf_cm = confusion_matrix(y_test, Emotion_rf_pred)\n",
    " print(Emotion_rf_cm)\n",
    " return Emotion_rf_model, Emotion_rf_cm, acc, X_test, y_test"
   ]
  },
  {
   "cell_type": "code",
   "execution_count": 7,
   "metadata": {},
   "outputs": [],
   "source": [
    "emotion_mapping = {\n",
    "    '01': 'neutral',\n",
    "    '02': 'calm',\n",
    "    '03': 'happy',\n",
    "    '04': 'sad',\n",
    "    '05': 'angry',\n",
    "    '06': 'fearful',\n",
    "    '07': 'disgust',\n",
    "    '08': 'surprised'\n",
    "}"
   ]
  },
  {
   "cell_type": "code",
   "execution_count": 10,
   "metadata": {},
   "outputs": [
    {
     "ename": "ValueError",
     "evalue": "Length mismatch: Expected axis has 0 elements, new values have 151 elements",
     "output_type": "error",
     "traceback": [
      "\u001b[1;31m---------------------------------------------------------------------------\u001b[0m",
      "\u001b[1;31mValueError\u001b[0m                                Traceback (most recent call last)",
      "\u001b[1;32mc:\\Users\\suast\\Documents\\School\\Fall 2023\\328 Mobile Health\\FinalProject\\CS328FinalProject\\.ipynb_checkpoints\\A4EmotionRecog-checkpoint.ipynb Cell 5\u001b[0m line \u001b[0;36m1\n\u001b[0;32m     <a href='vscode-notebook-cell:/c%3A/Users/suast/Documents/School/Fall%202023/328%20Mobile%20Health/FinalProject/CS328FinalProject/.ipynb_checkpoints/A4EmotionRecog-checkpoint.ipynb#W4sZmlsZQ%3D%3D?line=14'>15</a>\u001b[0m \u001b[39m#Create column names\u001b[39;00m\n\u001b[0;32m     <a href='vscode-notebook-cell:/c%3A/Users/suast/Documents/School/Fall%202023/328%20Mobile%20Health/FinalProject/CS328FinalProject/.ipynb_checkpoints/A4EmotionRecog-checkpoint.ipynb#W4sZmlsZQ%3D%3D?line=15'>16</a>\u001b[0m col_names \u001b[39m=\u001b[39m [\u001b[39mf\u001b[39m\u001b[39m'\u001b[39m\u001b[39mfeat_\u001b[39m\u001b[39m{\u001b[39;00mi\u001b[39m}\u001b[39;00m\u001b[39m'\u001b[39m \u001b[39mfor\u001b[39;00m i \u001b[39min\u001b[39;00m \u001b[39mrange\u001b[39m(\u001b[39m150\u001b[39m)] \u001b[39m+\u001b[39m [\u001b[39m'\u001b[39m\u001b[39mlabel\u001b[39m\u001b[39m'\u001b[39m]\n\u001b[1;32m---> <a href='vscode-notebook-cell:/c%3A/Users/suast/Documents/School/Fall%202023/328%20Mobile%20Health/FinalProject/CS328FinalProject/.ipynb_checkpoints/A4EmotionRecog-checkpoint.ipynb#W4sZmlsZQ%3D%3D?line=16'>17</a>\u001b[0m frames\u001b[39m.\u001b[39;49mcolumns \u001b[39m=\u001b[39m col_names\n\u001b[0;32m     <a href='vscode-notebook-cell:/c%3A/Users/suast/Documents/School/Fall%202023/328%20Mobile%20Health/FinalProject/CS328FinalProject/.ipynb_checkpoints/A4EmotionRecog-checkpoint.ipynb#W4sZmlsZQ%3D%3D?line=17'>18</a>\u001b[0m Emotion_rf_model, Emotion_rf_cm, acc, X_test, y_test \u001b[39m=\u001b[39m train_random_forest(frames)\n\u001b[0;32m     <a href='vscode-notebook-cell:/c%3A/Users/suast/Documents/School/Fall%202023/328%20Mobile%20Health/FinalProject/CS328FinalProject/.ipynb_checkpoints/A4EmotionRecog-checkpoint.ipynb#W4sZmlsZQ%3D%3D?line=19'>20</a>\u001b[0m \u001b[39m# Plot confusion matrix using seaborn\u001b[39;00m\n",
      "File \u001b[1;32mc:\\Users\\suast\\AppData\\Local\\Programs\\Python\\Python311\\Lib\\site-packages\\pandas\\core\\generic.py:6218\u001b[0m, in \u001b[0;36mNDFrame.__setattr__\u001b[1;34m(self, name, value)\u001b[0m\n\u001b[0;32m   6216\u001b[0m \u001b[39mtry\u001b[39;00m:\n\u001b[0;32m   6217\u001b[0m     \u001b[39mobject\u001b[39m\u001b[39m.\u001b[39m\u001b[39m__getattribute__\u001b[39m(\u001b[39mself\u001b[39m, name)\n\u001b[1;32m-> 6218\u001b[0m     \u001b[39mreturn\u001b[39;00m \u001b[39mobject\u001b[39;49m\u001b[39m.\u001b[39;49m\u001b[39m__setattr__\u001b[39;49m(\u001b[39mself\u001b[39;49m, name, value)\n\u001b[0;32m   6219\u001b[0m \u001b[39mexcept\u001b[39;00m \u001b[39mAttributeError\u001b[39;00m:\n\u001b[0;32m   6220\u001b[0m     \u001b[39mpass\u001b[39;00m\n",
      "File \u001b[1;32mproperties.pyx:69\u001b[0m, in \u001b[0;36mpandas._libs.properties.AxisProperty.__set__\u001b[1;34m()\u001b[0m\n",
      "File \u001b[1;32mc:\\Users\\suast\\AppData\\Local\\Programs\\Python\\Python311\\Lib\\site-packages\\pandas\\core\\generic.py:767\u001b[0m, in \u001b[0;36mNDFrame._set_axis\u001b[1;34m(self, axis, labels)\u001b[0m\n\u001b[0;32m    762\u001b[0m \u001b[39m\u001b[39m\u001b[39m\"\"\"\u001b[39;00m\n\u001b[0;32m    763\u001b[0m \u001b[39mThis is called from the cython code when we set the `index` attribute\u001b[39;00m\n\u001b[0;32m    764\u001b[0m \u001b[39mdirectly, e.g. `series.index = [1, 2, 3]`.\u001b[39;00m\n\u001b[0;32m    765\u001b[0m \u001b[39m\"\"\"\u001b[39;00m\n\u001b[0;32m    766\u001b[0m labels \u001b[39m=\u001b[39m ensure_index(labels)\n\u001b[1;32m--> 767\u001b[0m \u001b[39mself\u001b[39;49m\u001b[39m.\u001b[39;49m_mgr\u001b[39m.\u001b[39;49mset_axis(axis, labels)\n\u001b[0;32m    768\u001b[0m \u001b[39mself\u001b[39m\u001b[39m.\u001b[39m_clear_item_cache()\n",
      "File \u001b[1;32mc:\\Users\\suast\\AppData\\Local\\Programs\\Python\\Python311\\Lib\\site-packages\\pandas\\core\\internals\\managers.py:227\u001b[0m, in \u001b[0;36mBaseBlockManager.set_axis\u001b[1;34m(self, axis, new_labels)\u001b[0m\n\u001b[0;32m    225\u001b[0m \u001b[39mdef\u001b[39;00m \u001b[39mset_axis\u001b[39m(\u001b[39mself\u001b[39m, axis: AxisInt, new_labels: Index) \u001b[39m-\u001b[39m\u001b[39m>\u001b[39m \u001b[39mNone\u001b[39;00m:\n\u001b[0;32m    226\u001b[0m     \u001b[39m# Caller is responsible for ensuring we have an Index object.\u001b[39;00m\n\u001b[1;32m--> 227\u001b[0m     \u001b[39mself\u001b[39;49m\u001b[39m.\u001b[39;49m_validate_set_axis(axis, new_labels)\n\u001b[0;32m    228\u001b[0m     \u001b[39mself\u001b[39m\u001b[39m.\u001b[39maxes[axis] \u001b[39m=\u001b[39m new_labels\n",
      "File \u001b[1;32mc:\\Users\\suast\\AppData\\Local\\Programs\\Python\\Python311\\Lib\\site-packages\\pandas\\core\\internals\\base.py:85\u001b[0m, in \u001b[0;36mDataManager._validate_set_axis\u001b[1;34m(self, axis, new_labels)\u001b[0m\n\u001b[0;32m     82\u001b[0m     \u001b[39mpass\u001b[39;00m\n\u001b[0;32m     84\u001b[0m \u001b[39melif\u001b[39;00m new_len \u001b[39m!=\u001b[39m old_len:\n\u001b[1;32m---> 85\u001b[0m     \u001b[39mraise\u001b[39;00m \u001b[39mValueError\u001b[39;00m(\n\u001b[0;32m     86\u001b[0m         \u001b[39mf\u001b[39m\u001b[39m\"\u001b[39m\u001b[39mLength mismatch: Expected axis has \u001b[39m\u001b[39m{\u001b[39;00mold_len\u001b[39m}\u001b[39;00m\u001b[39m elements, new \u001b[39m\u001b[39m\"\u001b[39m\n\u001b[0;32m     87\u001b[0m         \u001b[39mf\u001b[39m\u001b[39m\"\u001b[39m\u001b[39mvalues have \u001b[39m\u001b[39m{\u001b[39;00mnew_len\u001b[39m}\u001b[39;00m\u001b[39m elements\u001b[39m\u001b[39m\"\u001b[39m\n\u001b[0;32m     88\u001b[0m     )\n",
      "\u001b[1;31mValueError\u001b[0m: Length mismatch: Expected axis has 0 elements, new values have 151 elements"
     ]
    }
   ],
   "source": [
    "filenames = glob.glob(\"all\\\\*.wav\")\n",
    "frames = pd.DataFrame()\n",
    "for filename in filenames:\n",
    " # Extract the emotion label\n",
    " fsplit = filename.split('-')\n",
    " emotion = emotion_mapping[fsplit[2]]\n",
    " # duration and offset are used to take care of the no audio in start and the ending of each aud\n",
    " data, sample_rate = librosa.load(filename, duration=2.0, offset=0.9)\n",
    " feature_df = extract_features(data, sample_rate)\n",
    " emotion_df = pd.DataFrame([emotion])\n",
    " # Assuming feature_df only has one row, you can directly concatenate along the columns\n",
    " combined_df = pd.concat([feature_df, emotion_df], axis=1)\n",
    " frames = pd.concat([frames, combined_df], ignore_index=True)\n",
    "\n",
    "#Create column names\n",
    "col_names = [f'feat_{i}' for i in range(150)] + ['label']\n",
    "frames.columns = col_names\n",
    "Emotion_rf_model, Emotion_rf_cm, acc, X_test, y_test = train_random_forest(frames)\n",
    "\n",
    "# Plot confusion matrix using seaborn\n",
    "plt.figure(figsize=(8, 6))\n",
    "sns.heatmap(Emotion_rf_cm, annot=True, fmt='d', cmap='Blues', xticklabels=Emotion_rf_model.classes_, yticklabels=Emotion_rf_model.classes_)\n",
    "plt.xlabel('Predicted')\n",
    "plt.ylabel('True')\n",
    "plt.title('Confusion Matrix')\n",
    "plt.show()\n",
    "\n",
    "# Print accuracy\n",
    "print(f'Accuracy: {acc:.2f}')\n",
    "\n",
    "# Print classification report\n",
    "Emotion_rf_pred = Emotion_rf_model.predict(X_test)\n",
    "print(classification_report(y_test, Emotion_rf_pred))\n"
   ]
  }
 ],
 "metadata": {
  "kernelspec": {
   "display_name": "Python 3",
   "language": "python",
   "name": "python3"
  },
  "language_info": {
   "codemirror_mode": {
    "name": "ipython",
    "version": 3
   },
   "file_extension": ".py",
   "mimetype": "text/x-python",
   "name": "python",
   "nbconvert_exporter": "python",
   "pygments_lexer": "ipython3",
   "version": "3.11.7"
  }
 },
 "nbformat": 4,
 "nbformat_minor": 2
}
